{
 "cells": [
  {
   "cell_type": "markdown",
   "metadata": {},
   "source": [
    "# Tworzymy nazwane klastry\n",
    "\n",
    "W lekcji tej użyjemy LLM-ów do pomocy przy znalezieniu odpowiednich nazw i opisów dla klastrów."
   ]
  },
  {
   "cell_type": "code",
   "execution_count": 5,
   "metadata": {},
   "outputs": [],
   "source": [
    "import json\n",
    "import pandas as pd\n",
    "from openai import OpenAI\n",
    "from dotenv import dotenv_values\n",
    "from pycaret.clustering import predict_model, load_model"
   ]
  },
  {
   "cell_type": "code",
   "execution_count": 10,
   "metadata": {},
   "outputs": [],
   "source": [
    "env = dotenv_values(\".env\")\n",
    "\n",
    "openai_client = OpenAI(api_key=env[\"OPENAI_API_KEY\"])"
   ]
  },
  {
   "cell_type": "markdown",
   "metadata": {},
   "source": [
    "ładujemy nasze dane"
   ]
  },
  {
   "cell_type": "code",
   "execution_count": 11,
   "metadata": {},
   "outputs": [
    {
     "data": {
      "text/html": [
       "<div>\n",
       "<style scoped>\n",
       "    .dataframe tbody tr th:only-of-type {\n",
       "        vertical-align: middle;\n",
       "    }\n",
       "\n",
       "    .dataframe tbody tr th {\n",
       "        vertical-align: top;\n",
       "    }\n",
       "\n",
       "    .dataframe thead th {\n",
       "        text-align: right;\n",
       "    }\n",
       "</style>\n",
       "<table border=\"1\" class=\"dataframe\">\n",
       "  <thead>\n",
       "    <tr style=\"text-align: right;\">\n",
       "      <th></th>\n",
       "      <th>age</th>\n",
       "      <th>edu_level</th>\n",
       "      <th>fav_animals</th>\n",
       "      <th>fav_place</th>\n",
       "      <th>gender</th>\n",
       "    </tr>\n",
       "  </thead>\n",
       "  <tbody>\n",
       "    <tr>\n",
       "      <th>count</th>\n",
       "      <td>229</td>\n",
       "      <td>229</td>\n",
       "      <td>229</td>\n",
       "      <td>200</td>\n",
       "      <td>227</td>\n",
       "    </tr>\n",
       "    <tr>\n",
       "      <th>unique</th>\n",
       "      <td>8</td>\n",
       "      <td>3</td>\n",
       "      <td>5</td>\n",
       "      <td>4</td>\n",
       "      <td>2</td>\n",
       "    </tr>\n",
       "    <tr>\n",
       "      <th>top</th>\n",
       "      <td>35-44</td>\n",
       "      <td>Wyższe</td>\n",
       "      <td>Psy</td>\n",
       "      <td>Nad wodą</td>\n",
       "      <td>Mężczyzna</td>\n",
       "    </tr>\n",
       "    <tr>\n",
       "      <th>freq</th>\n",
       "      <td>83</td>\n",
       "      <td>184</td>\n",
       "      <td>123</td>\n",
       "      <td>73</td>\n",
       "      <td>171</td>\n",
       "    </tr>\n",
       "  </tbody>\n",
       "</table>\n",
       "</div>"
      ],
      "text/plain": [
       "          age edu_level fav_animals fav_place     gender\n",
       "count     229       229         229       200        227\n",
       "unique      8         3           5         4          2\n",
       "top     35-44    Wyższe         Psy  Nad wodą  Mężczyzna\n",
       "freq       83       184         123        73        171"
      ]
     },
     "execution_count": 11,
     "metadata": {},
     "output_type": "execute_result"
    }
   ],
   "source": [
    "df = pd.read_csv('welcome_survey_simple_v2.csv', sep=';')\n",
    "df.head()\n",
    "df.describe()"
   ]
  },
  {
   "cell_type": "markdown",
   "metadata": {},
   "source": [
    "ładujemy model wytrenowany w poprzedniej lekcji"
   ]
  },
  {
   "cell_type": "code",
   "execution_count": 12,
   "metadata": {},
   "outputs": [
    {
     "name": "stdout",
     "output_type": "stream",
     "text": [
      "Transformation Pipeline and Model Successfully Loaded\n"
     ]
    }
   ],
   "source": [
    "kmeans_pipeline = load_model('welcome_survey_clustering_pipeline_v2')"
   ]
  },
  {
   "cell_type": "markdown",
   "metadata": {},
   "source": [
    "aplikujemy model do danych"
   ]
  },
  {
   "cell_type": "code",
   "execution_count": 13,
   "metadata": {},
   "outputs": [
    {
     "data": {
      "text/plain": [
       "Cluster\n",
       "Cluster 3    38\n",
       "Cluster 1    34\n",
       "Cluster 0    30\n",
       "Cluster 6    30\n",
       "Cluster 5    29\n",
       "Cluster 4    26\n",
       "Cluster 2    23\n",
       "Cluster 7    19\n",
       "Name: count, dtype: int64"
      ]
     },
     "execution_count": 13,
     "metadata": {},
     "output_type": "execute_result"
    }
   ],
   "source": [
    "df_with_clusters = predict_model(model=kmeans_pipeline, data=df)\n",
    "df_with_clusters[\"Cluster\"].value_counts()"
   ]
  },
  {
   "cell_type": "markdown",
   "metadata": {},
   "source": [
    "stworzymy teraz prompt, który prześlemy do LLM-a w celu znalezienia odpowiednich nazw i opisów dla klastrów"
   ]
  },
  {
   "cell_type": "markdown",
   "metadata": {},
   "source": [
    "poniższego kodu (kod1) nie rozumiem - zapytać Kuby"
   ]
  },
  {
   "cell_type": "code",
   "execution_count": 14,
   "metadata": {},
   "outputs": [],
   "source": [
    "cluster_descriptions = {}\n",
    "for cluster_id in df_with_clusters['Cluster'].unique():\n",
    "    cluster_df = df_with_clusters[df_with_clusters['Cluster'] == cluster_id]\n",
    "    summary = \"\"\n",
    "    for column in df_with_clusters:\n",
    "        if column == 'Cluster':\n",
    "            continue\n",
    "\n",
    "        value_counts = cluster_df[column].value_counts()\n",
    "        value_counts_str = ', '.join([f\"{idx}: {cnt}\" for idx, cnt in value_counts.items()])\n",
    "        summary += f\"{column} - {value_counts_str}\\n\"\n",
    "\n",
    "    cluster_descriptions[cluster_id] = summary"
   ]
  },
  {
   "cell_type": "code",
   "execution_count": 15,
   "metadata": {},
   "outputs": [
    {
     "name": "stdout",
     "output_type": "stream",
     "text": [
      "age - 45-54: 12, 35-44: 6, 55-64: 5, 25-34: 3, 18-24: 1, >=65: 1, unknown: 1, <18: 0\n",
      "edu_level - Wyższe: 29, Podstawowe: 0, Średnie: 0\n",
      "fav_animals - Koty: 10, Inne: 8, Brak ulubionych: 7, Koty i Psy: 4, Psy: 0\n",
      "fav_place - Nad wodą: 15, Inne: 1, W górach: 0, W lesie: 0\n",
      "gender - Mężczyzna: 25, Kobieta: 3\n",
      "\n"
     ]
    }
   ],
   "source": [
    "print(cluster_descriptions[\"Cluster 5\"])"
   ]
  },
  {
   "cell_type": "markdown",
   "metadata": {},
   "source": [
    "poniższego kodu (kod2) nie rozumiem - zapytać Kuby"
   ]
  },
  {
   "cell_type": "code",
   "execution_count": 16,
   "metadata": {},
   "outputs": [
    {
     "name": "stdout",
     "output_type": "stream",
     "text": [
      "Użyliśmy algorytmu klastrowania.\n",
      "\n",
      "Klaster Cluster 7:\n",
      "age - 35-44: 8, 45-54: 4, 25-34: 3, 18-24: 2, <18: 1, >=65: 1, 55-64: 0, unknown: 0\n",
      "edu_level - Średnie: 18, Podstawowe: 1, Wyższe: 0\n",
      "fav_animals - Psy: 13, Koty: 3, Brak ulubionych: 2, Inne: 1, Koty i Psy: 0\n",
      "fav_place - Nad wodą: 12, W lesie: 2, Inne: 0, W górach: 0\n",
      "gender - Mężczyzna: 13, Kobieta: 6\n",
      "\n",
      "\n",
      "Klaster Cluster 3:\n",
      "age - 45-54: 18, 35-44: 8, 25-34: 7, 55-64: 4, >=65: 1, 18-24: 0, <18: 0, unknown: 0\n",
      "edu_level - Wyższe: 38, Podstawowe: 0, Średnie: 0\n",
      "fav_animals - Psy: 23, Brak ulubionych: 5, Inne: 5, Koty: 5, Koty i Psy: 0\n",
      "fav_place - W lesie: 38, Inne: 0, Nad wodą: 0, W górach: 0\n",
      "gender - Mężczyzna: 29, Kobieta: 9\n",
      "\n",
      "\n",
      "Klaster Cluster 4:\n",
      "age - 45-54: 9, 25-34: 7, 18-24: 6, 35-44: 4, 55-64: 0, <18: 0, >=65: 0, unknown: 0\n",
      "edu_level - Średnie: 26, Podstawowe: 0, Wyższe: 0\n",
      "fav_animals - Koty: 9, Inne: 7, Psy: 7, Brak ulubionych: 3, Koty i Psy: 0\n",
      "fav_place - W górach: 18, W lesie: 5, Inne: 3, Nad wodą: 0\n",
      "gender - Mężczyzna: 24, Kobieta: 2\n",
      "\n",
      "\n",
      "Klaster Cluster 0:\n",
      "age - 35-44: 30, 18-24: 0, 25-34: 0, 45-54: 0, 55-64: 0, <18: 0, >=65: 0, unknown: 0\n",
      "edu_level - Wyższe: 30, Podstawowe: 0, Średnie: 0\n",
      "fav_animals - Psy: 23, Inne: 5, Brak ulubionych: 1, Koty: 1, Koty i Psy: 0\n",
      "fav_place - Nad wodą: 24, Inne: 1, W górach: 0, W lesie: 0\n",
      "gender - Mężczyzna: 20, Kobieta: 10\n",
      "\n",
      "\n",
      "Klaster Cluster 2:\n",
      "age - 35-44: 19, 25-34: 3, >=65: 1, 18-24: 0, 45-54: 0, 55-64: 0, <18: 0, unknown: 0\n",
      "edu_level - Wyższe: 23, Podstawowe: 0, Średnie: 0\n",
      "fav_animals - Koty: 11, Brak ulubionych: 4, Inne: 4, Koty i Psy: 2, Psy: 2\n",
      "fav_place - W górach: 21, Inne: 2, Nad wodą: 0, W lesie: 0\n",
      "gender - Mężczyzna: 14, Kobieta: 9\n",
      "\n",
      "\n",
      "Klaster Cluster 1:\n",
      "age - 45-54: 15, 25-34: 8, 35-44: 8, 18-24: 1, 55-64: 1, >=65: 1, <18: 0, unknown: 0\n",
      "edu_level - Wyższe: 34, Podstawowe: 0, Średnie: 0\n",
      "fav_animals - Psy: 25, Brak ulubionych: 4, Inne: 3, Koty: 2, Koty i Psy: 0\n",
      "fav_place - W górach: 34, Inne: 0, Nad wodą: 0, W lesie: 0\n",
      "gender - Mężczyzna: 27, Kobieta: 6\n",
      "\n",
      "\n",
      "Klaster Cluster 5:\n",
      "age - 45-54: 12, 35-44: 6, 55-64: 5, 25-34: 3, 18-24: 1, >=65: 1, unknown: 1, <18: 0\n",
      "edu_level - Wyższe: 29, Podstawowe: 0, Średnie: 0\n",
      "fav_animals - Koty: 10, Inne: 8, Brak ulubionych: 7, Koty i Psy: 4, Psy: 0\n",
      "fav_place - Nad wodą: 15, Inne: 1, W górach: 0, W lesie: 0\n",
      "gender - Mężczyzna: 25, Kobieta: 3\n",
      "\n",
      "\n",
      "Klaster Cluster 6:\n",
      "age - 45-54: 16, 25-34: 6, 55-64: 5, >=65: 2, unknown: 1, 18-24: 0, 35-44: 0, <18: 0\n",
      "edu_level - Wyższe: 30, Podstawowe: 0, Średnie: 0\n",
      "fav_animals - Psy: 30, Brak ulubionych: 0, Inne: 0, Koty: 0, Koty i Psy: 0\n",
      "fav_place - Nad wodą: 22, Inne: 2, W górach: 0, W lesie: 0\n",
      "gender - Mężczyzna: 19, Kobieta: 11\n",
      "\n",
      "Wygeneruj najlepsze nazwy dla każdego z klasterów oraz ich opisy\n",
      "\n",
      "Użyj formatu JSON. Przykładowo:\n",
      "{\n",
      "    \"Cluster 0\": {\n",
      "        \"name\": \"Klaster 0\",\n",
      "        \"description\": \"W tym klastrze znajdują się osoby, które...\"\n",
      "    },\n",
      "    \"Cluster 1\": {\n",
      "        \"name\": \"Klaster 1\",\n",
      "        \"description\": \"W tym klastrze znajdują się osoby, które...\"\n",
      "    }\n",
      "}\n",
      "\n"
     ]
    }
   ],
   "source": [
    "prompt = \"Użyliśmy algorytmu klastrowania.\"\n",
    "for cluster_id, description in cluster_descriptions.items():\n",
    "    prompt += f\"\\n\\nKlaster {cluster_id}:\\n{description}\"\n",
    "\n",
    "prompt += \"\"\"\n",
    "Wygeneruj najlepsze nazwy dla każdego z klasterów oraz ich opisy\n",
    "\n",
    "Użyj formatu JSON. Przykładowo:\n",
    "{\n",
    "    \"Cluster 0\": {\n",
    "        \"name\": \"Klaster 0\",\n",
    "        \"description\": \"W tym klastrze znajdują się osoby, które...\"\n",
    "    },\n",
    "    \"Cluster 1\": {\n",
    "        \"name\": \"Klaster 1\",\n",
    "        \"description\": \"W tym klastrze znajdują się osoby, które...\"\n",
    "    }\n",
    "}\n",
    "\"\"\"\n",
    "print(prompt)"
   ]
  },
  {
   "cell_type": "code",
   "execution_count": null,
   "metadata": {},
   "outputs": [],
   "source": [
    "cluster_descriptions = {\n",
    "    0: \"Klaster 0 zawiera młode osoby, które interesują się sportem i aktywnym stylem życia.\",\n",
    "    1: \"Klaster 1 to osoby starsze, które cenią sobie spokojne życie i rodzinne wartości.\",\n",
    "    # Dodaj więcej klastrów w zależności od potrzeb...\n",
    "}\n",
    "\n",
    "# Budujemy prompt do generowania obrazków\n",
    "prompt = \"Użyliśmy algorytmu klastrowania.\"\n",
    "for cluster_id, description in cluster_descriptions.items():\n",
    "    prompt += f\"\\n\\nKlaster {cluster_id}:\\n{description}\"\n",
    "\n",
    "prompt += \"\"\"\n",
    "Wygeneruj najlepsze obrazki dla każdego z klasterów oraz ich opisy\n",
    "\n",
    "Użyj formatu JSON. Przykładowo:\n",
    "{\n",
    "    \"Cluster 0\": {\n",
    "        \"name\": \"Klaster 0\",\n",
    "        \"description\": \"W tym klastrze znajdują się osoby, które...\"\n",
    "    },\n",
    "    \"Cluster 1\": {\n",
    "        \"name\": \"Klaster 1\",\n",
    "        \"description\": \"W tym klastrze znajdują się osoby, które...\"\n",
    "    }\n",
    "}\n",
    "\"\"\"\n",
    "\n",
    "print(prompt)\n"
   ]
  },
  {
   "cell_type": "markdown",
   "metadata": {},
   "source": [
    "wyciągnięcie df cluster/opis"
   ]
  },
  {
   "cell_type": "code",
   "execution_count": 8,
   "metadata": {},
   "outputs": [
    {
     "name": "stdout",
     "output_type": "stream",
     "text": [
      "{0: 'Miłośnicy Wody z Wyższym Wykształceniem', 1: 'Górscy Profesjonaliści', 2: 'Kociarze z Wyższym Wykształceniem', 3: 'Leśni Entuzjaści z Wyższym Wykształceniem', 4: 'Miłośnicy Gór ze Średnim Wykształceniem', 5: 'Nadwodni Kociarze z Wyższym Wykształceniem', 6: 'Nadwodni Psiarze z Wyższym Wykształceniem', 7: 'Średnio Wykształceni Miłośnicy Psów'}\n",
      "   Cluster                                        Name\n",
      "0        0     Miłośnicy Wody z Wyższym Wykształceniem\n",
      "1        1                      Górscy Profesjonaliści\n",
      "2        2           Kociarze z Wyższym Wykształceniem\n",
      "3        3   Leśni Entuzjaści z Wyższym Wykształceniem\n",
      "4        4     Miłośnicy Gór ze Średnim Wykształceniem\n",
      "5        5  Nadwodni Kociarze z Wyższym Wykształceniem\n",
      "6        6   Nadwodni Psiarze z Wyższym Wykształceniem\n",
      "7        7         Średnio Wykształceni Miłośnicy Psów\n"
     ]
    }
   ],
   "source": [
    "import json\n",
    "import pandas as pd\n",
    "\n",
    "# Załaduj zewnętrzny plik JSON\n",
    "file_name = 'welcome_survey_cluster_names_and_descriptions_v2.json'\n",
    "\n",
    "# Otwórz i załaduj dane z pliku JSON\n",
    "with open(file_name, 'r', encoding='utf-8') as f:\n",
    "    json_data = json.load(f)\n",
    "\n",
    "# Konwersja JSON na słownik opisów klastrów\n",
    "cluster_descriptions = {int(cluster.split()[1]): value[\"name\"] for cluster, value in json_data.items()}\n",
    "\n",
    "# Wyświetlenie słownika (opcjonalnie, aby sprawdzić dane)\n",
    "print(cluster_descriptions)\n",
    "\n",
    "# Przekształcenie do DataFrame\n",
    "df = pd.DataFrame(list(cluster_descriptions.items()), columns=['Cluster', 'Name'])\n",
    "\n",
    "# Wyświetlenie DataFrame\n",
    "print(df)\n",
    "\n",
    "# Zapisanie do pliku CSV (opcjonalnie)\n",
    "df.to_csv('cluster_descriptions.csv', index=False, encoding='utf-8')\n"
   ]
  },
  {
   "cell_type": "markdown",
   "metadata": {},
   "source": [
    "generowanie obrazków dla nazw klastrów - nie udało się 3ba ręcznie obrazy"
   ]
  },
  {
   "cell_type": "code",
   "execution_count": 27,
   "metadata": {},
   "outputs": [
    {
     "ename": "APIRemovedInV1",
     "evalue": "\n\nYou tried to access openai.Image, but this is no longer supported in openai>=1.0.0 - see the README at https://github.com/openai/openai-python for the API.\n\nYou can run `openai migrate` to automatically upgrade your codebase to use the 1.0.0 interface. \n\nAlternatively, you can pin your installation to the old version, e.g. `pip install openai==0.28`\n\nA detailed migration guide is available here: https://github.com/openai/openai-python/discussions/742\n",
     "output_type": "error",
     "traceback": [
      "\u001b[1;31m---------------------------------------------------------------------------\u001b[0m",
      "\u001b[1;31mAPIRemovedInV1\u001b[0m                            Traceback (most recent call last)",
      "Cell \u001b[1;32mIn[27], line 31\u001b[0m\n\u001b[0;32m     28\u001b[0m \u001b[38;5;66;03m# Pętla przez opisy klastrów\u001b[39;00m\n\u001b[0;32m     29\u001b[0m \u001b[38;5;28;01mfor\u001b[39;00m cluster_id, description \u001b[38;5;129;01min\u001b[39;00m \u001b[38;5;28menumerate\u001b[39m(descriptions):\n\u001b[0;32m     30\u001b[0m     \u001b[38;5;66;03m# Generowanie obrazka z DALL-E dla opisu klastra\u001b[39;00m\n\u001b[1;32m---> 31\u001b[0m     response \u001b[38;5;241m=\u001b[39m openai\u001b[38;5;241m.\u001b[39mImage\u001b[38;5;241m.\u001b[39mcreate(\n\u001b[0;32m     32\u001b[0m         prompt\u001b[38;5;241m=\u001b[39mdescription,\n\u001b[0;32m     33\u001b[0m         n\u001b[38;5;241m=\u001b[39m\u001b[38;5;241m1\u001b[39m,  \u001b[38;5;66;03m# Liczba obrazków do wygenerowania\u001b[39;00m\n\u001b[0;32m     34\u001b[0m         size\u001b[38;5;241m=\u001b[39m\u001b[38;5;124m\"\u001b[39m\u001b[38;5;124m1024x1024\u001b[39m\u001b[38;5;124m\"\u001b[39m  \u001b[38;5;66;03m# Rozmiar obrazka\u001b[39;00m\n\u001b[0;32m     35\u001b[0m     )\n\u001b[0;32m     37\u001b[0m     \u001b[38;5;66;03m# Zapisujemy obrazek do pliku {cluster}.png\u001b[39;00m\n\u001b[0;32m     38\u001b[0m     image_url \u001b[38;5;241m=\u001b[39m response[\u001b[38;5;124m'\u001b[39m\u001b[38;5;124mdata\u001b[39m\u001b[38;5;124m'\u001b[39m][\u001b[38;5;241m0\u001b[39m][\u001b[38;5;124m'\u001b[39m\u001b[38;5;124murl\u001b[39m\u001b[38;5;124m'\u001b[39m]  \u001b[38;5;66;03m# Pobieramy URL wygenerowanego obrazka\u001b[39;00m\n",
      "File \u001b[1;32mc:\\Users\\piotr\\miniconda3\\envs\\od_zera_do_ai_2\\Lib\\site-packages\\openai\\lib\\_old_api.py:39\u001b[0m, in \u001b[0;36mAPIRemovedInV1Proxy.__call__\u001b[1;34m(self, *_args, **_kwargs)\u001b[0m\n\u001b[0;32m     38\u001b[0m \u001b[38;5;28;01mdef\u001b[39;00m \u001b[38;5;21m__call__\u001b[39m(\u001b[38;5;28mself\u001b[39m, \u001b[38;5;241m*\u001b[39m_args: Any, \u001b[38;5;241m*\u001b[39m\u001b[38;5;241m*\u001b[39m_kwargs: Any) \u001b[38;5;241m-\u001b[39m\u001b[38;5;241m>\u001b[39m Any:\n\u001b[1;32m---> 39\u001b[0m     \u001b[38;5;28;01mraise\u001b[39;00m APIRemovedInV1(symbol\u001b[38;5;241m=\u001b[39m\u001b[38;5;28mself\u001b[39m\u001b[38;5;241m.\u001b[39m_symbol)\n",
      "\u001b[1;31mAPIRemovedInV1\u001b[0m: \n\nYou tried to access openai.Image, but this is no longer supported in openai>=1.0.0 - see the README at https://github.com/openai/openai-python for the API.\n\nYou can run `openai migrate` to automatically upgrade your codebase to use the 1.0.0 interface. \n\nAlternatively, you can pin your installation to the old version, e.g. `pip install openai==0.28`\n\nA detailed migration guide is available here: https://github.com/openai/openai-python/discussions/742\n"
     ]
    }
   ],
   "source": [
    "import openai\n",
    "import os\n",
    "import json\n",
    "import requests\n",
    "import pandas as pd\n",
    "from dotenv import load_dotenv\n",
    "\n",
    "# Ładowanie klucza API z pliku .env\n",
    "load_dotenv()\n",
    "openai.api_key = os.getenv('OPENAI_API_KEY')\n",
    "\n",
    "# Tworzenie folderu png, jeśli nie istnieje\n",
    "output_folder = 'png'\n",
    "os.makedirs(output_folder, exist_ok=True)\n",
    "\n",
    "# Opisy klastrów\n",
    "descriptions = [\n",
    "    \"Miłośnicy Wody z Wyższym Wykształceniem\",\n",
    "    \"Górscy Profesjonaliści\",\n",
    "    \"Kociarze z Wyższym Wykształceniem\",\n",
    "    \"Leśni Entuzjaści z Wyższym Wykształceniem\",\n",
    "    \"Miłośnicy Gór ze Średnim Wykształceniem\",\n",
    "    \"Nadwodni Kociarze z Wyższym Wykształceniem\",\n",
    "    \"Nadwodni Psiarze z Wyższym Wykształceniem\",\n",
    "    \"Średnio Wykształceni Miłośnicy Psów\"\n",
    "]\n",
    "\n",
    "# Pętla przez opisy klastrów\n",
    "for cluster_id, description in enumerate(descriptions):\n",
    "    # Generowanie obrazka z DALL-E dla opisu klastra\n",
    "    response = openai.Image.create(\n",
    "        prompt=description,\n",
    "        n=1,  # Liczba obrazków do wygenerowania\n",
    "        size=\"1024x1024\"  # Rozmiar obrazka\n",
    "    )\n",
    "\n",
    "    # Zapisujemy obrazek do pliku {cluster}.png\n",
    "    image_url = response['data'][0]['url']  # Pobieramy URL wygenerowanego obrazka\n",
    "    image_filename = f\"{cluster_id}.png\"    # Nazwa pliku\n",
    "    image_path = os.path.join(output_folder, image_filename)\n",
    "\n",
    "    # Pobieranie obrazka i zapisywanie na dysku\n",
    "    img_data = requests.get(image_url).content\n",
    "    with open(image_path, 'wb') as handler:\n",
    "        handler.write(img_data)\n",
    "\n",
    "    print(f\"Grafika dla klastra {cluster_id} wygenerowana i zapisana jako {image_filename}\")\n",
    "\n",
    "print(\"Wszystkie grafiki zostały wygenerowane i zapisane.\")\n"
   ]
  },
  {
   "cell_type": "code",
   "execution_count": 30,
   "metadata": {},
   "outputs": [],
   "source": [
    "# wygenerowanie df z nazwami plików\n",
    "\n",
    "clusters = list(range(8))\n",
    "\n",
    "# Tworzenie listy nazw plików\n",
    "file_names = [f'\"{cluster}.jpeg\"' for cluster in clusters]\n",
    "\n",
    "# Tworzenie dataframe\n",
    "df = pd.DataFrame({\n",
    "    'cluster': clusters,\n",
    "    'file_name': file_names\n",
    "})"
   ]
  },
  {
   "cell_type": "code",
   "execution_count": 17,
   "metadata": {},
   "outputs": [],
   "source": [
    "response = openai_client.chat.completions.create(\n",
    "    model=\"gpt-4o\",\n",
    "    temperature=0,\n",
    "    messages=[\n",
    "        {\n",
    "            \"role\": \"user\",\n",
    "            \"content\": [{\"type\": \"text\", \"text\": prompt}],\n",
    "        }\n",
    "    ],\n",
    ")"
   ]
  },
  {
   "cell_type": "markdown",
   "metadata": {},
   "source": [
    "To poniżej robi łądniejszego jsona bo coś"
   ]
  },
  {
   "cell_type": "code",
   "execution_count": 18,
   "metadata": {},
   "outputs": [],
   "source": [
    "result = response.choices[0].message.content.replace(\"```json\", \"\").replace(\"```\", \"\").strip()\n",
    "cluster_names_and_descriptions = json.loads(result)"
   ]
  },
  {
   "cell_type": "code",
   "execution_count": 19,
   "metadata": {},
   "outputs": [],
   "source": [
    "with open(\"welcome_survey_cluster_names_and_descriptions_v2.json\", \"w\") as f:\n",
    "    f.write(json.dumps(cluster_names_and_descriptions))"
   ]
  },
  {
   "cell_type": "code",
   "execution_count": 20,
   "metadata": {},
   "outputs": [
    {
     "name": "stdout",
     "output_type": "stream",
     "text": [
      "{'Cluster 0': {'name': 'Miłośnicy Wody z Wyższym Wykształceniem', 'description': 'W tym klastrze znajdują się osoby w wieku 35-44 lat, z wyższym wykształceniem, które preferują spędzanie czasu nad wodą. Większość z nich to mężczyźni, a ich ulubionymi zwierzętami są psy.'}, 'Cluster 1': {'name': 'Górscy Profesjonaliści', 'description': 'W tym klastrze znajdują się osoby z wyższym wykształceniem, które preferują góry jako miejsce wypoczynku. Dominują osoby w wieku 45-54 lat, a większość z nich to mężczyźni. Ich ulubionymi zwierzętami są psy.'}, 'Cluster 2': {'name': 'Kociarze z Wyższym Wykształceniem', 'description': 'W tym klastrze znajdują się osoby w wieku 35-44 lat, z wyższym wykształceniem, które preferują góry i mają szczególne upodobanie do kotów. Większość z nich to mężczyźni.'}, 'Cluster 3': {'name': 'Leśni Entuzjaści z Wyższym Wykształceniem', 'description': 'W tym klastrze znajdują się osoby z wyższym wykształceniem, które preferują lasy jako miejsce wypoczynku. Dominują osoby w wieku 45-54 lat, a większość z nich to mężczyźni. Ich ulubionymi zwierzętami są psy.'}, 'Cluster 4': {'name': 'Miłośnicy Gór ze Średnim Wykształceniem', 'description': 'W tym klastrze znajdują się osoby ze średnim wykształceniem, które preferują góry jako miejsce wypoczynku. Dominują osoby w wieku 45-54 lat, a większość z nich to mężczyźni. Ich ulubionymi zwierzętami są koty.'}, 'Cluster 5': {'name': 'Nadwodni Kociarze z Wyższym Wykształceniem', 'description': 'W tym klastrze znajdują się osoby z wyższym wykształceniem, które preferują spędzanie czasu nad wodą. Dominują osoby w wieku 45-54 lat, a większość z nich to mężczyźni. Ich ulubionymi zwierzętami są koty.'}, 'Cluster 6': {'name': 'Nadwodni Psiarze z Wyższym Wykształceniem', 'description': 'W tym klastrze znajdują się osoby z wyższym wykształceniem, które preferują spędzanie czasu nad wodą. Dominują osoby w wieku 45-54 lat, a większość z nich to mężczyźni. Ich ulubionymi zwierzętami są psy.'}, 'Cluster 7': {'name': 'Średnio Wykształceni Miłośnicy Psów', 'description': 'W tym klastrze znajdują się osoby ze średnim wykształceniem, które preferują spędzanie czasu nad wodą. Dominują osoby w wieku 35-44 lat, a większość z nich to mężczyźni. Ich ulubionymi zwierzętami są psy.'}}\n"
     ]
    }
   ],
   "source": [
    "with open(\"welcome_survey_cluster_names_and_descriptions_v2.json\", \"r\") as f:\n",
    "    print(json.loads(f.read()))"
   ]
  }
 ],
 "metadata": {
  "kernelspec": {
   "display_name": "Python 3 (ipykernel)",
   "language": "python",
   "name": "python3"
  },
  "language_info": {
   "codemirror_mode": {
    "name": "ipython",
    "version": 3
   },
   "file_extension": ".py",
   "mimetype": "text/x-python",
   "name": "python",
   "nbconvert_exporter": "python",
   "pygments_lexer": "ipython3",
   "version": "3.11.10"
  }
 },
 "nbformat": 4,
 "nbformat_minor": 4
}
